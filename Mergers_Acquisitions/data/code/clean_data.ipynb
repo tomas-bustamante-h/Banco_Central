{
 "cells": [
  {
   "cell_type": "markdown",
   "source": [
    "# Librerias"
   ],
   "metadata": {
    "collapsed": false
   }
  },
  {
   "cell_type": "code",
   "execution_count": 226,
   "metadata": {
    "collapsed": true
   },
   "outputs": [],
   "source": [
    "import numpy as np\n",
    "import pandas as pd\n",
    "import re\n",
    "import os\n",
    "import operator\n",
    "\n",
    "# Working Directory\n",
    "os.chdir(\"C:/Users/tomas/OneDrive - usach.cl/Banco_Central/Mergers_Acquisitions/\")\n",
    "cwd = os.getcwd()"
   ]
  },
  {
   "cell_type": "markdown",
   "source": [
    "# Armonización de los datos USA"
   ],
   "metadata": {
    "collapsed": false
   }
  },
  {
   "cell_type": "markdown",
   "source": [
    "# GDP"
   ],
   "metadata": {
    "collapsed": false
   }
  },
  {
   "cell_type": "code",
   "execution_count": 402,
   "outputs": [],
   "source": [
    "gdp = pd.read_excel(f'{cwd}/raw/gdp_usa_1929_2022.xlsx', sheet_name= \"T10105-A\",skiprows= 6, header = 1)\n",
    "\n",
    "gdp = gdp.iloc[0,:]\n",
    "\n",
    "gdp = gdp.rename(\"gdp\")\n",
    "\n",
    "gdp = gdp.reset_index()\n",
    "\n",
    "gdp = gdp.drop([0,1,2])\n",
    "\n",
    "gdp = gdp.rename(columns = {\"index\":\"year\"})\n",
    "\n",
    "# Save as csv\n",
    "gdp.to_csv(f\"{cwd}\\\\data\\\\output\\\\gdp_usa.csv\", index= False)\n"
   ],
   "metadata": {
    "collapsed": false
   }
  },
  {
   "cell_type": "markdown",
   "source": [
    "# GDP by Industry"
   ],
   "metadata": {
    "collapsed": false
   }
  },
  {
   "cell_type": "code",
   "execution_count": 403,
   "outputs": [],
   "source": [
    "# 1947 - 1997\n",
    "\n",
    "gdpi_1947 = pd.read_excel(f\"{cwd}\\\\raw\\\\gdpbyind_go_1947_1997.xlsx\", header = 5)\n",
    "\n",
    "gdpi_1947 = gdpi_1947.transpose().reset_index()\n",
    "\n",
    "gdpi_1947 = gdpi_1947.rename(columns = gdpi_1947.iloc[1,:])\n",
    "\n",
    "gdpi_1947 = gdpi_1947.drop([0,1])\n",
    "\n",
    "gdpi_1947 = gdpi_1947.rename(columns = {\"index\":\"year\", 'Unnamed: 1': 'year'} )\n",
    "\n",
    "gdpi_1947 = gdpi_1947.replace(\"...\", np.nan)\n",
    "\n",
    "gdpi_1947 = gdpi_1947.drop(columns = gdpi_1947.columns[102:])\n",
    "\n",
    "col_names_1947 = gdpi_1947.columns.tolist()\n",
    "\n",
    "col_names_1947 = list(map(str.strip, col_names_1947))\n",
    "\n",
    "gdpi_1947.columns = col_names_1947\n",
    "\n",
    "duplicated_cols_1947 = gdpi_1947.columns.duplicated().tolist()\n",
    "\n",
    "non_duplicated_cols_1947 = map(operator.not_, duplicated_cols_1947)\n",
    "\n",
    "gdpi_1947 = gdpi_1947.loc[:,non_duplicated_cols_1947]\n"
   ],
   "metadata": {
    "collapsed": false
   }
  },
  {
   "cell_type": "code",
   "execution_count": 404,
   "outputs": [],
   "source": [
    "# 1997 - 2021\n",
    "\n",
    "gdpi_1997 = pd.read_excel(f\"{cwd}\\\\raw\\\\gdpbyind_go_1997_2021.xlsx\", sheet_name = 'TGO105-A', header = 7)\n",
    "\n",
    "gdpi_1997 = gdpi_1997.transpose().reset_index()\n",
    "\n",
    "gdpi_1997 = gdpi_1997.rename(columns = gdpi_1997.iloc[1,:])\n",
    "\n",
    "gdpi_1997 = gdpi_1997.drop([0,1,2])\n",
    "\n",
    "gdpi_1997 = gdpi_1997.rename(columns = {\"Unnamed: 1\":\"year\"} )\n",
    "\n",
    "gdpi_1997 = gdpi_1997.drop(columns = gdpi_1997.columns[102:])\n",
    "\n",
    "col_names_1997 = gdpi_1997.columns.tolist()\n",
    "\n",
    "col_names_1997 = list(map(str.strip, col_names_1997))\n",
    "\n",
    "gdpi_1997.columns = col_names_1997\n",
    "\n",
    "duplicated_cols_1997 = gdpi_1997.columns.duplicated().tolist()\n",
    "\n",
    "non_duplicated_cols_1997 = map(operator.not_, duplicated_cols_1997)\n",
    "\n",
    "gdpi_1997 = gdpi_1997.loc[:,non_duplicated_cols_1997]"
   ],
   "metadata": {
    "collapsed": false
   }
  },
  {
   "cell_type": "markdown",
   "source": [
    "# Merging GDP by Industries Tables by year"
   ],
   "metadata": {
    "collapsed": false
   }
  },
  {
   "cell_type": "code",
   "execution_count": 405,
   "outputs": [],
   "source": [
    "\n",
    "gdpi_by_ind_usa = pd.concat([gdpi_1947, gdpi_1997], ignore_index=True)\n",
    "\n",
    "gdpi_by_ind_usa = gdpi_by_ind_usa.drop(51)\n",
    "\n",
    "# Save as csv\n",
    "gdpi_by_ind_usa.to_csv(f'{cwd}\\\\data\\\\output\\\\gdp_by_ind_usa.csv')\n"
   ],
   "metadata": {
    "collapsed": false
   }
  },
  {
   "cell_type": "markdown",
   "source": [
    "# M&A"
   ],
   "metadata": {
    "collapsed": false
   }
  },
  {
   "cell_type": "code",
   "execution_count": 406,
   "outputs": [],
   "source": [
    "ftc = pd.read_excel(f\"{cwd}\\\\raw\\\\large_acquisitions_in _manufacturing_and_mining_1948_1979_ftc.xlsx\")\n"
   ],
   "metadata": {
    "collapsed": false
   }
  },
  {
   "cell_type": "code",
   "execution_count": 407,
   "outputs": [],
   "source": [
    "pautler = pd.read_excel(f\"{cwd}\\\\raw\\\\mergers_divestitures_disclosed_value_1968_2000_pautler_2001.xlsx\")\n",
    "\n",
    "pautler.columns = [\"year\", \"ma_announcement\", \"ma_trans_purch\", \"total_divestitures\",\n",
    "                   \"divestitures_per_total\", \"total_paid_dollar_billions\", \"constant_dolar_value\"]"
   ],
   "metadata": {
    "collapsed": false
   }
  },
  {
   "cell_type": "markdown",
   "source": [
    "# Merging M&A Tables"
   ],
   "metadata": {
    "collapsed": false
   }
  },
  {
   "cell_type": "code",
   "execution_count": 410,
   "outputs": [],
   "source": [
    "ma_usa = ftc.merge(pautler, on =  'year', how =  'outer')\n",
    "\n",
    "ma_usa.to_csv(f'{cwd}\\\\data\\\\output\\\\ma_usa.csv')\n"
   ],
   "metadata": {
    "collapsed": false
   }
  },
  {
   "cell_type": "markdown",
   "source": [
    "# Armonización de los datos UK"
   ],
   "metadata": {
    "collapsed": false
   }
  },
  {
   "cell_type": "markdown",
   "source": [
    "# GDP"
   ],
   "metadata": {
    "collapsed": false
   }
  },
  {
   "cell_type": "code",
   "execution_count": 411,
   "outputs": [],
   "source": [
    "qna = pd.read_excel(f'{cwd}\\\\raw\\qna.xlsx')\n",
    "\n",
    "# Gross Domestic Product at market prices: Current price: Seasonally adjusted £m\n",
    "\n",
    "gdp_uk = qna[[\"Title\", \"Gross Domestic Product at market prices: Current price: Seasonally adjusted £m\"]]\n",
    "\n",
    "gdp_uk = gdp_uk.drop([0,1,2,3,4,5,6,7])\n",
    "\n",
    "gdp_uk.columns = [\"year\", \"gdp_cp_nc\"]\n",
    "\n",
    "gdp_uk = gdp_uk.reset_index(drop= True).iloc[0:74,]\n",
    "\n",
    "gdp_uk.to_csv(f'{cwd}\\\\data\\\\output\\\\gdp_uk.csv')"
   ],
   "metadata": {
    "collapsed": false
   }
  },
  {
   "cell_type": "markdown",
   "source": [
    "# IoP by Industry (Proxy GDP by Industry)"
   ],
   "metadata": {
    "collapsed": false
   }
  },
  {
   "cell_type": "code",
   "execution_count": 412,
   "outputs": [
    {
     "name": "stderr",
     "output_type": "stream",
     "text": [
      "C:\\Users\\tomas\\anaconda3\\lib\\site-packages\\openpyxl\\styles\\stylesheet.py:226: UserWarning: Workbook contains no default style, apply openpyxl's default\n",
      "  warn(\"Workbook contains no default style, apply openpyxl's default\")\n"
     ]
    }
   ],
   "source": [
    "diop = pd.read_excel(f\"{cwd}\\\\raw\\\\diop.xlsx\")"
   ],
   "metadata": {
    "collapsed": false
   }
  },
  {
   "cell_type": "code",
   "execution_count": 413,
   "outputs": [],
   "source": [
    "colnames_diop = diop.columns.tolist()\n",
    "\n",
    "r = re.compile(\"^\\AIOP:[^0-9]*.CVMSA$\")\n",
    "colnames_iop = list(filter(r.match, colnames_diop))\n",
    "\n",
    "colnames_iop.insert(0,'Title')\n",
    "\n",
    "iop_uk = diop[colnames_iop]\n",
    "\n",
    "iop_uk = iop_uk.drop([0,1,2,3,4,5])\n",
    "\n",
    "iop_uk.to_csv(f'{cwd}\\\\data\\\\output\\\\iop_uk.csv')\n"
   ],
   "metadata": {
    "collapsed": false
   }
  },
  {
   "cell_type": "markdown",
   "source": [
    "# M&A"
   ],
   "metadata": {
    "collapsed": false
   }
  },
  {
   "cell_type": "code",
   "execution_count": 414,
   "outputs": [],
   "source": [
    "ma_uk = pd.read_excel(f\"{cwd}\\\\raw\\\\am.xlsx\")\n",
    "\n",
    "ma_uk = ma_uk.drop([0,1,2,3,4,5])\n",
    "\n",
    "ma_uk = ma_uk.iloc[:,[0,1,2,3]]\n",
    "\n",
    "ma_uk.columns = [\"year\", \"n_companies\", \"ord_shares_value_m\", \"pref_shares_loan_value_m\"]\n",
    "\n",
    "ma_uk.to_csv(f'{cwd}\\\\data\\\\output\\\\ma_uk.csv')"
   ],
   "metadata": {
    "collapsed": false
   }
  }
 ],
 "metadata": {
  "kernelspec": {
   "display_name": "Python 3",
   "language": "python",
   "name": "python3"
  },
  "language_info": {
   "codemirror_mode": {
    "name": "ipython",
    "version": 2
   },
   "file_extension": ".py",
   "mimetype": "text/x-python",
   "name": "python",
   "nbconvert_exporter": "python",
   "pygments_lexer": "ipython2",
   "version": "2.7.6"
  }
 },
 "nbformat": 4,
 "nbformat_minor": 0
}
