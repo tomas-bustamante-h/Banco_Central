{
 "cells": [
  {
   "cell_type": "markdown",
   "source": [
    "# Creando Objeto Bs"
   ],
   "metadata": {
    "collapsed": false
   }
  },
  {
   "cell_type": "code",
   "execution_count": 1,
   "metadata": {
    "collapsed": true
   },
   "outputs": [],
   "source": [
    "from urllib.request import urlopen\n",
    "from bs4 import BeautifulSoup\n",
    "import re\n",
    "\n",
    "html = urlopen(\"https://en.wikipedia.org/wiki/List_of_current_finance_ministers\")\n",
    "bs = BeautifulSoup(html.read(), 'html.parser')"
   ]
  },
  {
   "cell_type": "markdown",
   "source": [
    "# Obteniendo Links de los diferentes paises, nombre de los ministros y pais"
   ],
   "metadata": {
    "collapsed": false
   }
  },
  {
   "cell_type": "code",
   "execution_count": 2,
   "outputs": [],
   "source": [
    "\n",
    "finance_ministers = []\n",
    "finance_ministers_name = []\n",
    "countries = []\n",
    "\n",
    "finance = bs.table.tbody.find_all('tr')\n",
    "\n",
    "finance.pop(0)\n",
    "\n",
    "for i in finance:\n",
    "    rows = i.find_all(\"td\")\n",
    "    #if rows[2].a != \"None\":\n",
    "    #   print(rows[2].a['href'])\n",
    "    try:\n",
    "        countries.append(rows[0].a.text)\n",
    "        finance_ministers.append(rows[2].a.attrs['href'])\n",
    "        finance_ministers_name.append(rows[2].text)\n",
    "    except:\n",
    "        finance_ministers.append(\"None\")\n",
    "        finance_ministers_name.append(\"None\")\n"
   ],
   "metadata": {
    "collapsed": false
   }
  },
  {
   "cell_type": "markdown",
   "source": [
    "# Obteniendo Fechas de nacimiento de cada ministro\n"
   ],
   "metadata": {
    "collapsed": false
   }
  },
  {
   "cell_type": "code",
   "execution_count": null,
   "outputs": [],
   "source": [
    "\n",
    "b_day = []\n",
    "finance_name = []\n",
    "\n",
    "for minister in finance_ministers:\n",
    "    #print(minister)\n",
    "    try:\n",
    "        html = urlopen(\"https://en.wikipedia.org{}\".format(minister))\n",
    "        bs = BeautifulSoup(html.read(), 'html.parser')\n",
    "        infobox = bs.find('table', {'class': \"infobox vcard\"})\n",
    "        tr_infobox = infobox.find_all(\"tr\")\n",
    "        born_info = []\n",
    "        name = []\n",
    "        for i in tr_infobox:\n",
    "            #print(i.find(\"th\", text = 'Born'))\n",
    "            if i.find(\"th\", text = 'Born'):\n",
    "                born_info.append(i)\n",
    "                #print(i)\n",
    "            else:\n",
    "                born_info.append(\"None\")\n",
    "        for j in tr_infobox:\n",
    "            if j.find(\"div\", {\"class\": \"fn\"}):\n",
    "                name.append(j.find(\"div\", {\"class\": \"fn\"}).text)\n",
    "                #print(j.find(\"div\", {\"class\": \"fn\"}).text)\n",
    "            else:\n",
    "                name.append(\"None\")\n",
    "\n",
    "        while \"None\" in born_info:\n",
    "            born_info.remove(\"None\")\n",
    "\n",
    "        while \"None\" in name:\n",
    "            name.remove(\"None\")\n",
    "\n",
    "        b_day.append(born_info)\n",
    "        finance_name.append(name)\n",
    "        print(\"{}:{}\".format(name,born_info))\n",
    "    except:\n",
    "        continue\n"
   ],
   "metadata": {
    "collapsed": false,
    "pycharm": {
     "is_executing": true
    }
   }
  },
  {
   "cell_type": "code",
   "execution_count": null,
   "outputs": [],
   "source": [
    "minister_born_date = []\n",
    "\n",
    "for born in b_day:\n",
    "    try:\n",
    "        info = born[0].find(\"td\")\n",
    "        print(info)\n",
    "        if info.find('', text = re.compile('19*')):\n",
    "            minister_born_date.append(info.find('', text = re.compile('19*') ))\n",
    "        else:\n",
    "            minister_born_date.append(\"None\")\n",
    "    except IndexError:\n",
    "        minister_born_date.append(\"None\")"
   ],
   "metadata": {
    "collapsed": false,
    "pycharm": {
     "is_executing": true
    }
   }
  },
  {
   "cell_type": "code",
   "execution_count": null,
   "outputs": [],
   "source": [
    "        for i, j in zip(name, born_info):\n",
    "    if i == \"None\"  and j == \"None\":\n",
    "        print(\"No Name and No Bday\")\n",
    "    elif i == \"None\" and j != \"None\":\n",
    "        print(\"No Name\")\n",
    "    elif i != \"None\" and j == \"None\":\n",
    "        print(\"Name Added\")\n",
    "        finance_name.append(i)\n",
    "        b_day.append(j)\n",
    "    elif i != \"None\" and j != \"None\":\n",
    "        print(\"Name and Bday Added\")\n",
    "        finance_name.append(i)\n",
    "        b_day.append(j)"
   ],
   "metadata": {
    "collapsed": false
   }
  },
  {
   "cell_type": "code",
   "execution_count": null,
   "outputs": [],
   "source": [
    "from genderize import Genderize\n",
    "from nameparser import HumanName\n",
    "\n",
    "gender_finance_minister = []\n",
    "\n",
    "for i in range(0, len(finance_ministers_name)):\n",
    "    try:\n",
    "        print(HumanName(finance_ministers_name[i]).full_name, Genderize().get([HumanName(finance_ministers_name[i]).first])[0]['gender'], Genderize().get([HumanName(finance_ministers_name[i]).first])[0]['probability'] )\n",
    "    except IndexError:\n",
    "        print(\"No Name\")"
   ],
   "metadata": {
    "collapsed": false,
    "pycharm": {
     "is_executing": true
    }
   }
  }
 ],
 "metadata": {
  "kernelspec": {
   "display_name": "Python 3",
   "language": "python",
   "name": "python3"
  },
  "language_info": {
   "codemirror_mode": {
    "name": "ipython",
    "version": 2
   },
   "file_extension": ".py",
   "mimetype": "text/x-python",
   "name": "python",
   "nbconvert_exporter": "python",
   "pygments_lexer": "ipython2",
   "version": "2.7.6"
  }
 },
 "nbformat": 4,
 "nbformat_minor": 0
}
