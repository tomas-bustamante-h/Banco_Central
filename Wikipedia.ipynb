{
 "cells": [
  {
   "cell_type": "markdown",
   "source": [
    "# Creando Objeto Bs"
   ],
   "metadata": {
    "collapsed": false
   }
  },
  {
   "cell_type": "code",
   "execution_count": 34,
   "metadata": {
    "collapsed": true
   },
   "outputs": [],
   "source": [
    "from urllib.request import urlopen\n",
    "from bs4 import BeautifulSoup\n",
    "import pandas as pd\n",
    "import numpy as np\n",
    "\n",
    "\n",
    "html = urlopen(\"https://en.wikipedia.org/wiki/List_of_current_finance_ministers\")\n",
    "bs = BeautifulSoup(html.read(), 'html.parser')\n",
    "\n",
    "\n",
    "\n"
   ]
  },
  {
   "cell_type": "markdown",
   "source": [
    "# Obteniendo Links de los diferentes paises"
   ],
   "metadata": {
    "collapsed": false
   }
  },
  {
   "cell_type": "code",
   "execution_count": 151,
   "outputs": [],
   "source": [
    "\n",
    "finance_ministers = []\n",
    "finance_ministers_name = []\n",
    "\n",
    "\n",
    "finance = bs.table.tbody.find_all('tr')\n",
    "\n",
    "finance.pop(0)\n",
    "\n",
    "\n",
    "\n",
    "for i in finance:\n",
    "    rows = i.find_all(\"td\")\n",
    "    #if rows[2].a != \"None\":\n",
    "    #   print(rows[2].a['href'])\n",
    "    try:\n",
    "        finance_ministers.append(rows[2].a.attrs['href'])\n",
    "        finance_ministers_name.append(rows[2].a.attrs['title'])\n",
    "    except:\n",
    "        finance_ministers.append(\"None\")\n",
    "        finance_ministers_name.append(\"None\")\n",
    "\n",
    "\n",
    "\n",
    "\n",
    "\n",
    "\n",
    "\n",
    "\n",
    "\n",
    "\n",
    "\n"
   ],
   "metadata": {
    "collapsed": false
   }
  }
 ],
 "metadata": {
  "kernelspec": {
   "display_name": "Python 3",
   "language": "python",
   "name": "python3"
  },
  "language_info": {
   "codemirror_mode": {
    "name": "ipython",
    "version": 2
   },
   "file_extension": ".py",
   "mimetype": "text/x-python",
   "name": "python",
   "nbconvert_exporter": "python",
   "pygments_lexer": "ipython2",
   "version": "2.7.6"
  }
 },
 "nbformat": 4,
 "nbformat_minor": 0
}
